{
 "cells": [
  {
   "cell_type": "markdown",
   "metadata": {},
   "source": [
    "# Data Visualization with Plotly\n",
    "\n",
    "The following notebook displays how the plotly suite may be used to visualize data using Python.\n",
    "\n",
    "## Setting up\n",
    "\n",
    "Before getting started make sure your python environment is set up correctly, we recommend using `virtualenv` (which also requires `pipx`) for maximum isolation of dependencies.\n",
    "\n",
    "Restore the dependencies to run this project by running `pip install -r requirements.txt`."
   ]
  },
  {
   "cell_type": "markdown",
   "metadata": {},
   "source": [
    "## First hello world with Ploty\n",
    "\n",
    "The code belows renders a very simple bar chart by using Plotly. Think of it as the basic \"hello, world\" that confirms your environment is indeed working as expected."
   ]
  },
  {
   "cell_type": "code",
   "execution_count": 1,
   "metadata": {},
   "outputs": [
    {
     "data": {
      "application/vnd.plotly.v1+json": {
       "config": {
        "plotlyServerURL": "https://plot.ly"
       },
       "data": [
        {
         "alignmentgroup": "True",
         "hovertemplate": "x=%{x}<br>y=%{y}<extra></extra>",
         "legendgroup": "",
         "marker": {
          "color": "#636efa",
          "pattern": {
           "shape": ""
          }
         },
         "name": "",
         "offsetgroup": "",
         "orientation": "v",
         "showlegend": false,
         "textposition": "auto",
         "type": "bar",
         "x": [
          "a",
          "b",
          "c"
         ],
         "xaxis": "x",
         "y": [
          1,
          3,
          2
         ],
         "yaxis": "y"
        }
       ],
       "layout": {
        "barmode": "relative",
        "legend": {
         "tracegroupgap": 0
        },
        "margin": {
         "t": 60
        },
        "template": {
         "data": {
          "bar": [
           {
            "error_x": {
             "color": "#2a3f5f"
            },
            "error_y": {
             "color": "#2a3f5f"
            },
            "marker": {
             "line": {
              "color": "#E5ECF6",
              "width": 0.5
             },
             "pattern": {
              "fillmode": "overlay",
              "size": 10,
              "solidity": 0.2
             }
            },
            "type": "bar"
           }
          ],
          "barpolar": [
           {
            "marker": {
             "line": {
              "color": "#E5ECF6",
              "width": 0.5
             },
             "pattern": {
              "fillmode": "overlay",
              "size": 10,
              "solidity": 0.2
             }
            },
            "type": "barpolar"
           }
          ],
          "carpet": [
           {
            "aaxis": {
             "endlinecolor": "#2a3f5f",
             "gridcolor": "white",
             "linecolor": "white",
             "minorgridcolor": "white",
             "startlinecolor": "#2a3f5f"
            },
            "baxis": {
             "endlinecolor": "#2a3f5f",
             "gridcolor": "white",
             "linecolor": "white",
             "minorgridcolor": "white",
             "startlinecolor": "#2a3f5f"
            },
            "type": "carpet"
           }
          ],
          "choropleth": [
           {
            "colorbar": {
             "outlinewidth": 0,
             "ticks": ""
            },
            "type": "choropleth"
           }
          ],
          "contour": [
           {
            "colorbar": {
             "outlinewidth": 0,
             "ticks": ""
            },
            "colorscale": [
             [
              0,
              "#0d0887"
             ],
             [
              0.1111111111111111,
              "#46039f"
             ],
             [
              0.2222222222222222,
              "#7201a8"
             ],
             [
              0.3333333333333333,
              "#9c179e"
             ],
             [
              0.4444444444444444,
              "#bd3786"
             ],
             [
              0.5555555555555556,
              "#d8576b"
             ],
             [
              0.6666666666666666,
              "#ed7953"
             ],
             [
              0.7777777777777778,
              "#fb9f3a"
             ],
             [
              0.8888888888888888,
              "#fdca26"
             ],
             [
              1,
              "#f0f921"
             ]
            ],
            "type": "contour"
           }
          ],
          "contourcarpet": [
           {
            "colorbar": {
             "outlinewidth": 0,
             "ticks": ""
            },
            "type": "contourcarpet"
           }
          ],
          "heatmap": [
           {
            "colorbar": {
             "outlinewidth": 0,
             "ticks": ""
            },
            "colorscale": [
             [
              0,
              "#0d0887"
             ],
             [
              0.1111111111111111,
              "#46039f"
             ],
             [
              0.2222222222222222,
              "#7201a8"
             ],
             [
              0.3333333333333333,
              "#9c179e"
             ],
             [
              0.4444444444444444,
              "#bd3786"
             ],
             [
              0.5555555555555556,
              "#d8576b"
             ],
             [
              0.6666666666666666,
              "#ed7953"
             ],
             [
              0.7777777777777778,
              "#fb9f3a"
             ],
             [
              0.8888888888888888,
              "#fdca26"
             ],
             [
              1,
              "#f0f921"
             ]
            ],
            "type": "heatmap"
           }
          ],
          "heatmapgl": [
           {
            "colorbar": {
             "outlinewidth": 0,
             "ticks": ""
            },
            "colorscale": [
             [
              0,
              "#0d0887"
             ],
             [
              0.1111111111111111,
              "#46039f"
             ],
             [
              0.2222222222222222,
              "#7201a8"
             ],
             [
              0.3333333333333333,
              "#9c179e"
             ],
             [
              0.4444444444444444,
              "#bd3786"
             ],
             [
              0.5555555555555556,
              "#d8576b"
             ],
             [
              0.6666666666666666,
              "#ed7953"
             ],
             [
              0.7777777777777778,
              "#fb9f3a"
             ],
             [
              0.8888888888888888,
              "#fdca26"
             ],
             [
              1,
              "#f0f921"
             ]
            ],
            "type": "heatmapgl"
           }
          ],
          "histogram": [
           {
            "marker": {
             "pattern": {
              "fillmode": "overlay",
              "size": 10,
              "solidity": 0.2
             }
            },
            "type": "histogram"
           }
          ],
          "histogram2d": [
           {
            "colorbar": {
             "outlinewidth": 0,
             "ticks": ""
            },
            "colorscale": [
             [
              0,
              "#0d0887"
             ],
             [
              0.1111111111111111,
              "#46039f"
             ],
             [
              0.2222222222222222,
              "#7201a8"
             ],
             [
              0.3333333333333333,
              "#9c179e"
             ],
             [
              0.4444444444444444,
              "#bd3786"
             ],
             [
              0.5555555555555556,
              "#d8576b"
             ],
             [
              0.6666666666666666,
              "#ed7953"
             ],
             [
              0.7777777777777778,
              "#fb9f3a"
             ],
             [
              0.8888888888888888,
              "#fdca26"
             ],
             [
              1,
              "#f0f921"
             ]
            ],
            "type": "histogram2d"
           }
          ],
          "histogram2dcontour": [
           {
            "colorbar": {
             "outlinewidth": 0,
             "ticks": ""
            },
            "colorscale": [
             [
              0,
              "#0d0887"
             ],
             [
              0.1111111111111111,
              "#46039f"
             ],
             [
              0.2222222222222222,
              "#7201a8"
             ],
             [
              0.3333333333333333,
              "#9c179e"
             ],
             [
              0.4444444444444444,
              "#bd3786"
             ],
             [
              0.5555555555555556,
              "#d8576b"
             ],
             [
              0.6666666666666666,
              "#ed7953"
             ],
             [
              0.7777777777777778,
              "#fb9f3a"
             ],
             [
              0.8888888888888888,
              "#fdca26"
             ],
             [
              1,
              "#f0f921"
             ]
            ],
            "type": "histogram2dcontour"
           }
          ],
          "mesh3d": [
           {
            "colorbar": {
             "outlinewidth": 0,
             "ticks": ""
            },
            "type": "mesh3d"
           }
          ],
          "parcoords": [
           {
            "line": {
             "colorbar": {
              "outlinewidth": 0,
              "ticks": ""
             }
            },
            "type": "parcoords"
           }
          ],
          "pie": [
           {
            "automargin": true,
            "type": "pie"
           }
          ],
          "scatter": [
           {
            "fillpattern": {
             "fillmode": "overlay",
             "size": 10,
             "solidity": 0.2
            },
            "type": "scatter"
           }
          ],
          "scatter3d": [
           {
            "line": {
             "colorbar": {
              "outlinewidth": 0,
              "ticks": ""
             }
            },
            "marker": {
             "colorbar": {
              "outlinewidth": 0,
              "ticks": ""
             }
            },
            "type": "scatter3d"
           }
          ],
          "scattercarpet": [
           {
            "marker": {
             "colorbar": {
              "outlinewidth": 0,
              "ticks": ""
             }
            },
            "type": "scattercarpet"
           }
          ],
          "scattergeo": [
           {
            "marker": {
             "colorbar": {
              "outlinewidth": 0,
              "ticks": ""
             }
            },
            "type": "scattergeo"
           }
          ],
          "scattergl": [
           {
            "marker": {
             "colorbar": {
              "outlinewidth": 0,
              "ticks": ""
             }
            },
            "type": "scattergl"
           }
          ],
          "scattermapbox": [
           {
            "marker": {
             "colorbar": {
              "outlinewidth": 0,
              "ticks": ""
             }
            },
            "type": "scattermapbox"
           }
          ],
          "scatterpolar": [
           {
            "marker": {
             "colorbar": {
              "outlinewidth": 0,
              "ticks": ""
             }
            },
            "type": "scatterpolar"
           }
          ],
          "scatterpolargl": [
           {
            "marker": {
             "colorbar": {
              "outlinewidth": 0,
              "ticks": ""
             }
            },
            "type": "scatterpolargl"
           }
          ],
          "scatterternary": [
           {
            "marker": {
             "colorbar": {
              "outlinewidth": 0,
              "ticks": ""
             }
            },
            "type": "scatterternary"
           }
          ],
          "surface": [
           {
            "colorbar": {
             "outlinewidth": 0,
             "ticks": ""
            },
            "colorscale": [
             [
              0,
              "#0d0887"
             ],
             [
              0.1111111111111111,
              "#46039f"
             ],
             [
              0.2222222222222222,
              "#7201a8"
             ],
             [
              0.3333333333333333,
              "#9c179e"
             ],
             [
              0.4444444444444444,
              "#bd3786"
             ],
             [
              0.5555555555555556,
              "#d8576b"
             ],
             [
              0.6666666666666666,
              "#ed7953"
             ],
             [
              0.7777777777777778,
              "#fb9f3a"
             ],
             [
              0.8888888888888888,
              "#fdca26"
             ],
             [
              1,
              "#f0f921"
             ]
            ],
            "type": "surface"
           }
          ],
          "table": [
           {
            "cells": {
             "fill": {
              "color": "#EBF0F8"
             },
             "line": {
              "color": "white"
             }
            },
            "header": {
             "fill": {
              "color": "#C8D4E3"
             },
             "line": {
              "color": "white"
             }
            },
            "type": "table"
           }
          ]
         },
         "layout": {
          "annotationdefaults": {
           "arrowcolor": "#2a3f5f",
           "arrowhead": 0,
           "arrowwidth": 1
          },
          "autotypenumbers": "strict",
          "coloraxis": {
           "colorbar": {
            "outlinewidth": 0,
            "ticks": ""
           }
          },
          "colorscale": {
           "diverging": [
            [
             0,
             "#8e0152"
            ],
            [
             0.1,
             "#c51b7d"
            ],
            [
             0.2,
             "#de77ae"
            ],
            [
             0.3,
             "#f1b6da"
            ],
            [
             0.4,
             "#fde0ef"
            ],
            [
             0.5,
             "#f7f7f7"
            ],
            [
             0.6,
             "#e6f5d0"
            ],
            [
             0.7,
             "#b8e186"
            ],
            [
             0.8,
             "#7fbc41"
            ],
            [
             0.9,
             "#4d9221"
            ],
            [
             1,
             "#276419"
            ]
           ],
           "sequential": [
            [
             0,
             "#0d0887"
            ],
            [
             0.1111111111111111,
             "#46039f"
            ],
            [
             0.2222222222222222,
             "#7201a8"
            ],
            [
             0.3333333333333333,
             "#9c179e"
            ],
            [
             0.4444444444444444,
             "#bd3786"
            ],
            [
             0.5555555555555556,
             "#d8576b"
            ],
            [
             0.6666666666666666,
             "#ed7953"
            ],
            [
             0.7777777777777778,
             "#fb9f3a"
            ],
            [
             0.8888888888888888,
             "#fdca26"
            ],
            [
             1,
             "#f0f921"
            ]
           ],
           "sequentialminus": [
            [
             0,
             "#0d0887"
            ],
            [
             0.1111111111111111,
             "#46039f"
            ],
            [
             0.2222222222222222,
             "#7201a8"
            ],
            [
             0.3333333333333333,
             "#9c179e"
            ],
            [
             0.4444444444444444,
             "#bd3786"
            ],
            [
             0.5555555555555556,
             "#d8576b"
            ],
            [
             0.6666666666666666,
             "#ed7953"
            ],
            [
             0.7777777777777778,
             "#fb9f3a"
            ],
            [
             0.8888888888888888,
             "#fdca26"
            ],
            [
             1,
             "#f0f921"
            ]
           ]
          },
          "colorway": [
           "#636efa",
           "#EF553B",
           "#00cc96",
           "#ab63fa",
           "#FFA15A",
           "#19d3f3",
           "#FF6692",
           "#B6E880",
           "#FF97FF",
           "#FECB52"
          ],
          "font": {
           "color": "#2a3f5f"
          },
          "geo": {
           "bgcolor": "white",
           "lakecolor": "white",
           "landcolor": "#E5ECF6",
           "showlakes": true,
           "showland": true,
           "subunitcolor": "white"
          },
          "hoverlabel": {
           "align": "left"
          },
          "hovermode": "closest",
          "mapbox": {
           "style": "light"
          },
          "paper_bgcolor": "white",
          "plot_bgcolor": "#E5ECF6",
          "polar": {
           "angularaxis": {
            "gridcolor": "white",
            "linecolor": "white",
            "ticks": ""
           },
           "bgcolor": "#E5ECF6",
           "radialaxis": {
            "gridcolor": "white",
            "linecolor": "white",
            "ticks": ""
           }
          },
          "scene": {
           "xaxis": {
            "backgroundcolor": "#E5ECF6",
            "gridcolor": "white",
            "gridwidth": 2,
            "linecolor": "white",
            "showbackground": true,
            "ticks": "",
            "zerolinecolor": "white"
           },
           "yaxis": {
            "backgroundcolor": "#E5ECF6",
            "gridcolor": "white",
            "gridwidth": 2,
            "linecolor": "white",
            "showbackground": true,
            "ticks": "",
            "zerolinecolor": "white"
           },
           "zaxis": {
            "backgroundcolor": "#E5ECF6",
            "gridcolor": "white",
            "gridwidth": 2,
            "linecolor": "white",
            "showbackground": true,
            "ticks": "",
            "zerolinecolor": "white"
           }
          },
          "shapedefaults": {
           "line": {
            "color": "#2a3f5f"
           }
          },
          "ternary": {
           "aaxis": {
            "gridcolor": "white",
            "linecolor": "white",
            "ticks": ""
           },
           "baxis": {
            "gridcolor": "white",
            "linecolor": "white",
            "ticks": ""
           },
           "bgcolor": "#E5ECF6",
           "caxis": {
            "gridcolor": "white",
            "linecolor": "white",
            "ticks": ""
           }
          },
          "title": {
           "x": 0.05
          },
          "xaxis": {
           "automargin": true,
           "gridcolor": "white",
           "linecolor": "white",
           "ticks": "",
           "title": {
            "standoff": 15
           },
           "zerolinecolor": "white",
           "zerolinewidth": 2
          },
          "yaxis": {
           "automargin": true,
           "gridcolor": "white",
           "linecolor": "white",
           "ticks": "",
           "title": {
            "standoff": 15
           },
           "zerolinecolor": "white",
           "zerolinewidth": 2
          }
         }
        },
        "xaxis": {
         "anchor": "y",
         "domain": [
          0,
          1
         ],
         "title": {
          "text": "x"
         }
        },
        "yaxis": {
         "anchor": "x",
         "domain": [
          0,
          1
         ],
         "title": {
          "text": "y"
         }
        }
       }
      }
     },
     "metadata": {},
     "output_type": "display_data"
    }
   ],
   "source": [
    "import plotly.express as px\n",
    "fig = px.bar(x=[\"a\", \"b\", \"c\"], y=[1, 3, 2])\n",
    "fig.show()"
   ]
  },
  {
   "cell_type": "markdown",
   "metadata": {},
   "source": [
    "## Getting simple data from an API and visualizing it.\n",
    "\n",
    "For this example I`ll use [FIPE API](https://deividfortuna.github.io/fipe/) as the source of our data.\n",
    "\n",
    "The following snippet creates a class to describe a vehicle from this API, calls the API, parses the results into the objects of the Vehicle class and then plots information about the most expensive ones.\n",
    "\n",
    "### Representing Vehicles using Object orientation\n",
    "\n",
    "To follow best practices and make things more readable long term we'll be creating Classes to represent the objects that are returned from the API as well as an object to represent the API itself (and thus allow us to have an easier time calling it).\n",
    "\n",
    "Since we are on an iterative notebook we'll be using the `assert` keyword to test things instead of a proper unit test. In production code we would have an accompanying unit test suite to cover the data contract and any API logic that'd be needed.\n",
    "\n",
    "Also we'll be using the \"type hinting\" system from Python's latest versions to further document the objects we'll be creating and working with once we call the api.\n",
    "\n",
    "A helper method (`from_json`) is created to make it simpler to instantiate objects of those classes from a json input."
   ]
  },
  {
   "cell_type": "code",
   "execution_count": 23,
   "metadata": {},
   "outputs": [],
   "source": [
    "import json #since we are working with json data\n",
    "from typing import Self #for type hinting\n",
    "\n",
    "class Make:\n",
    "    \"\"\"\n",
    "    Represents a Make within the FIPE Api.\n",
    "\n",
    "    Attributes:\n",
    "      codigo: str - The identifier of the make for API calls.\n",
    "      nome: str - The name of the make.\n",
    "    \"\"\"\n",
    "\n",
    "    def __init__(self: Self, codigo: str, nome: str):\n",
    "        \"\"\"\n",
    "        Initializes a Make object.\n",
    "        \n",
    "        Args:\n",
    "          codigo: str - The identifier of the make for API calls.\n",
    "          nome: str - The name of the make.\n",
    "        \"\"\"\n",
    "        self.codigo = codigo\n",
    "        self.nome = nome\n",
    "\n",
    "    @classmethod\n",
    "    def from_json(cls, json_data) -> Self:\n",
    "        \"\"\"\n",
    "        Creates a Make instance from json data.\n",
    "        \"\"\"\n",
    "        return cls(**json_data)\n",
    "\n",
    "class Model:\n",
    "    \"\"\"\n",
    "    Represents a Model within the FIPE Api. Usually a result of a subsequent call after getting a Make.\n",
    "\n",
    "    Attributes:\n",
    "      codigo: int - The identifier of the model for API calls.\n",
    "      nome: str - The name of the model.\n",
    "    \"\"\"\n",
    "\n",
    "    def __init__(self: Self, codigo: int, nome: str):\n",
    "        \"\"\"\n",
    "        Initializes a Model object.\n",
    "        \n",
    "        Args:\n",
    "          codigo: int - The identifier of the model for API calls.\n",
    "          nome: str - The name of the model.\n",
    "        \"\"\"\n",
    "        self.codigo = codigo\n",
    "        self.nome = nome\n",
    "\n",
    "    @classmethod\n",
    "    def from_json(cls, json_data):\n",
    "        \"\"\"\n",
    "        Creates a Model instance from json data.\n",
    "        \"\"\"\n",
    "        return cls(**json_data)\n",
    "\n",
    "class ModelYear:\n",
    "    \"\"\"\n",
    "    Represent`s a ModelYear within the FIPE Api. Usually a subsequent call after getting a Model.\n",
    "\n",
    "    Attributes:\n",
    "      codigo: str - The identifier of the model year for API calls.\n",
    "      nome: str - The name of the model year.\n",
    "    \"\"\"\n",
    "\n",
    "    def __init__(self: Self, codigo: str, nome: str):\n",
    "        \"\"\"\n",
    "        Initializes a ModelYear object.\n",
    "\n",
    "        Args:\n",
    "          codigo: str - The identifier of the model year for API calls.\n",
    "          nome: str - The name of the model year.\n",
    "        \"\"\"\n",
    "        self.codigo = codigo\n",
    "        self.nome = nome\n",
    "\n",
    "    @classmethod\n",
    "    def from_json(cls, json_data) -> Self:\n",
    "        return cls(**json_data)\n",
    "\n",
    "class ModelYearPrice:\n",
    "    \"\"\"\n",
    "    Represents a ModelYearPrice within the FIPE Api. Usually a subsequent call after getting a ModelYear.\n",
    "\n",
    "    Attributes:\n",
    "      TipoVeiculo: int - The type of vehicle (car, truck, motorcycle)\n",
    "      Valor: str - The price of the vehicle in R$.\n",
    "      Marca: str - The make of the vehicle.\n",
    "      Modelo: str - The model of the vehicle.\n",
    "      AnoModelo: int - The year of the model.\n",
    "      Combustivel: str - The fuel type of the vehicle.\n",
    "      CodigoFipe: str - The identifier of the price for API calls.\n",
    "      MesReferencia: str - The month of the price.\n",
    "      SiglaCombustivel: str - The fuel type abbreviation.\n",
    "    \"\"\"\n",
    "\n",
    "    def __init__(self: Self, \n",
    "                 TipoVeiculo: int, \n",
    "                 Valor: str, \n",
    "                 Marca: str, \n",
    "                 Modelo: str, \n",
    "                 AnoModelo: int, \n",
    "                 Combustivel: str, \n",
    "                 CodigoFipe: str, \n",
    "                 MesReferencia: str, \n",
    "                 SiglaCombustivel: str):\n",
    "        \"\"\"\n",
    "        Initializes a ModelYearPrice object.\n",
    "\n",
    "        Args:\n",
    "          TipoVeiculo: int - The type of vehicle (car, truck, motorcycle)\n",
    "          Valor: str - The price of the vehicle in R$.\n",
    "          Marca: str - The make of the vehicle.\n",
    "          Modelo: str - The model of the vehicle.\n",
    "          AnoModelo: int - The year of the model.\n",
    "          Combustivel: str - The fuel type of the vehicle.\n",
    "          CodigoFipe: str - The identifier of the price for API calls.\n",
    "          MesReferencia: str - The month of the price.\n",
    "          SiglaCombustivel: str - The fuel type abbreviation\n",
    "        \"\"\"\n",
    "        self.TipoVeiculo = TipoVeiculo\n",
    "        self.Valor = Valor\n",
    "        self.Marca = Marca\n",
    "        self.Modelo = Modelo\n",
    "        self.AnoModelo = AnoModelo\n",
    "        self.Combustivel = Combustivel\n",
    "        self.CodigoFipe = CodigoFipe\n",
    "        self.MesReferencia = MesReferencia\n",
    "        self.SiglaCombustivel = SiglaCombustivel\n",
    "\n",
    "    @classmethod\n",
    "    def from_json(cls, json_data) -> Self:\n",
    "        return cls(**json_data)\n",
    "\n",
    "# testing if the make class is accurate\n",
    "makeJson = \"{\\\"codigo\\\":\\\"1\\\",\\\"nome\\\":\\\"Acura\\\"}\"\n",
    "makeData = json.loads(makeJson)\n",
    "makeTest = Make.from_json(makeData)\n",
    "assert makeTest.codigo == \"1\"\n",
    "assert makeTest.nome == \"Acura\"\n",
    "\n",
    "# testing if the model class is accurate\n",
    "modelJson = \"{\\\"codigo\\\":9985,\\\"nome\\\":\\\"Corolla Altis Prem. 1.8 Aut. (HÃ­brido)\\\"}\" \n",
    "modelData = json.loads(modelJson)\n",
    "modelTest = Model.from_json(modelData)\n",
    "assert modelTest.codigo == 9985\n",
    "assert modelTest.nome == \"Corolla Altis Prem. 1.8 Aut. (HÃ­brido)\"\n",
    "\n",
    "# testing it the modelyear class is accurate\n",
    "modelYearJson = \"{\\\"codigo\\\":\\\"32000-1\\\",\\\"nome\\\":\\\"32000 Gasolina\\\"}\"\n",
    "modelYearData = json.loads(modelYearJson)\n",
    "modelYearTest = ModelYear.from_json(modelYearData)\n",
    "assert modelYearTest.codigo == \"32000-1\"\n",
    "assert modelYearTest.nome == \"32000 Gasolina\"\n",
    "\n",
    "# testing if the ModelYearPrice class is accurate\n",
    "modelYearPriceJson = \"{\\\"TipoVeiculo\\\":1,\\\"Valor\\\":\\\"R$ 140.970,00\\\",\\\"Marca\\\":\\\"Toyota\\\",\\\"Modelo\\\":\\\"Corolla Altis Prem. 1.8 Aut. (HÃ­brido)\\\",\\\"AnoModelo\\\":2022,\\\"Combustivel\\\":\\\"Gasolina\\\",\\\"CodigoFipe\\\":\\\"002183-0\\\",\\\"MesReferencia\\\":\\\"novembro de 2024\\\",\\\"SiglaCombustivel\\\":\\\"G\\\"}\"\n",
    "modelYearPriceData = json.loads(modelYearPriceJson)\n",
    "modelYearPriceTest = ModelYearPrice.from_json(modelYearPriceData)\n",
    "assert modelYearPriceTest.TipoVeiculo == 1\n",
    "assert modelYearPriceTest.Valor == \"R$ 140.970,00\"\n",
    "# not testing the rest of the attributes since they are the same as the ones in the json"
   ]
  },
  {
   "cell_type": "markdown",
   "metadata": {},
   "source": [
    "### Building a Fluent class to Query the API\n",
    "\n",
    "To make it easier to interact with the remote API we'll build a \"Builder\" class that handles the additional logic of building out the API endpoints following its logic:\n",
    "\n",
    "1. the base URL must be called in order to get a make's id\n",
    "2. the models endpoint must be called with the make's id in its path to get the available models\n",
    "3. the years endpoint must be called with the make's id and the model's id in order to return the yearly entries for that model\n",
    "4. finally the year's code is used to retrieve the actual price of the vehicle\n"
   ]
  },
  {
   "cell_type": "code",
   "execution_count": 22,
   "metadata": {},
   "outputs": [],
   "source": [
    "# BrasilAPI endpoint with all car brands\n",
    "makeEndpoint = \"https://deividfortuna.github.io/fipe/\"\n",
    "modelsEndpoint = \"https://parallelum.com.br/fipe/api/v1/carros/marcas/<make>/modelos\"\n",
    "yearsEndpoint = \"https://parallelum.com.br/fipe/api/v1/carros/marcas/<make>/modelos/<model>/anos\"\n",
    "priceEndpoint = \"https://parallelum.com.br/fipe/api/v1/carros/marcas/<make>/modelos/<model>/anos/<year>\"\n",
    "\n",
    "# TODO; WIP"
   ]
  }
 ],
 "metadata": {
  "kernelspec": {
   "display_name": "venv",
   "language": "python",
   "name": "python3"
  },
  "language_info": {
   "codemirror_mode": {
    "name": "ipython",
    "version": 3
   },
   "file_extension": ".py",
   "mimetype": "text/x-python",
   "name": "python",
   "nbconvert_exporter": "python",
   "pygments_lexer": "ipython3",
   "version": "3.13.0"
  }
 },
 "nbformat": 4,
 "nbformat_minor": 2
}
